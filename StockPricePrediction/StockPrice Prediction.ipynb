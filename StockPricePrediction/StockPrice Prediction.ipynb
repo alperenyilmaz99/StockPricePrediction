{
 "cells": [
  {
   "cell_type": "code",
   "execution_count": 27,
   "id": "8b2393a9",
   "metadata": {},
   "outputs": [],
   "source": [
    "#Gerekli kütüphaneleri projeme ekledim\n",
    "import numpy as np \n",
    "import pandas as pd\n",
    "import matplotlib.pyplot as plt \n",
    "%matplotlib inline"
   ]
  },
  {
   "cell_type": "code",
   "execution_count": 28,
   "id": "bbd96949",
   "metadata": {},
   "outputs": [],
   "source": [
    "from sklearn.preprocessing import MinMaxScaler #Verileri 0 ile 1 arasında oranlamak için preprocessing kullandım "
   ]
  },
  {
   "cell_type": "code",
   "execution_count": 29,
   "id": "6e8508e8",
   "metadata": {
    "scrolled": true
   },
   "outputs": [],
   "source": [
    "from tensorflow.keras.models import Sequential, load_model #Ardışık model oluşturmak için keras.models kullandım "
   ]
  },
  {
   "cell_type": "code",
   "execution_count": 30,
   "id": "783f329c",
   "metadata": {
    "scrolled": true
   },
   "outputs": [],
   "source": [
    "from tensorflow.keras.layers import LSTM, Dense, Dropout #sinir ağları oluşturmak için keras.layers apisini kullandım"
   ]
  },
  {
   "cell_type": "code",
   "execution_count": 31,
   "id": "23a77548",
   "metadata": {},
   "outputs": [],
   "source": [
    "import os # işletim sistemine eriştim"
   ]
  },
  {
   "cell_type": "code",
   "execution_count": 32,
   "id": "fe78855f",
   "metadata": {
    "scrolled": true
   },
   "outputs": [
    {
     "data": {
      "text/plain": [
       "'2.9.1'"
      ]
     },
     "execution_count": 32,
     "metadata": {},
     "output_type": "execute_result"
    }
   ],
   "source": [
    "import tensorflow as tf #tensorflow kütüphanesini tf olarak atadım\n",
    "tf.__version__#versiyonunu kontrol ettim"
   ]
  },
  {
   "cell_type": "code",
   "execution_count": 33,
   "id": "bfd6084f",
   "metadata": {
    "scrolled": false
   },
   "outputs": [
    {
     "data": {
      "text/html": [
       "<div>\n",
       "<style scoped>\n",
       "    .dataframe tbody tr th:only-of-type {\n",
       "        vertical-align: middle;\n",
       "    }\n",
       "\n",
       "    .dataframe tbody tr th {\n",
       "        vertical-align: top;\n",
       "    }\n",
       "\n",
       "    .dataframe thead th {\n",
       "        text-align: right;\n",
       "    }\n",
       "</style>\n",
       "<table border=\"1\" class=\"dataframe\">\n",
       "  <thead>\n",
       "    <tr style=\"text-align: right;\">\n",
       "      <th></th>\n",
       "      <th>date</th>\n",
       "      <th>open</th>\n",
       "      <th>high</th>\n",
       "      <th>low</th>\n",
       "      <th>close</th>\n",
       "      <th>volume</th>\n",
       "      <th>Name</th>\n",
       "    </tr>\n",
       "  </thead>\n",
       "  <tbody>\n",
       "    <tr>\n",
       "      <th>0</th>\n",
       "      <td>2013-02-08</td>\n",
       "      <td>67.7142</td>\n",
       "      <td>68.4014</td>\n",
       "      <td>66.8928</td>\n",
       "      <td>67.8542</td>\n",
       "      <td>158168416</td>\n",
       "      <td>AAPL</td>\n",
       "    </tr>\n",
       "    <tr>\n",
       "      <th>1</th>\n",
       "      <td>2013-02-11</td>\n",
       "      <td>68.0714</td>\n",
       "      <td>69.2771</td>\n",
       "      <td>67.6071</td>\n",
       "      <td>68.5614</td>\n",
       "      <td>129029425</td>\n",
       "      <td>AAPL</td>\n",
       "    </tr>\n",
       "    <tr>\n",
       "      <th>2</th>\n",
       "      <td>2013-02-12</td>\n",
       "      <td>68.5014</td>\n",
       "      <td>68.9114</td>\n",
       "      <td>66.8205</td>\n",
       "      <td>66.8428</td>\n",
       "      <td>151829363</td>\n",
       "      <td>AAPL</td>\n",
       "    </tr>\n",
       "    <tr>\n",
       "      <th>3</th>\n",
       "      <td>2013-02-13</td>\n",
       "      <td>66.7442</td>\n",
       "      <td>67.6628</td>\n",
       "      <td>66.1742</td>\n",
       "      <td>66.7156</td>\n",
       "      <td>118721995</td>\n",
       "      <td>AAPL</td>\n",
       "    </tr>\n",
       "    <tr>\n",
       "      <th>4</th>\n",
       "      <td>2013-02-14</td>\n",
       "      <td>66.3599</td>\n",
       "      <td>67.3771</td>\n",
       "      <td>66.2885</td>\n",
       "      <td>66.6556</td>\n",
       "      <td>88809154</td>\n",
       "      <td>AAPL</td>\n",
       "    </tr>\n",
       "  </tbody>\n",
       "</table>\n",
       "</div>"
      ],
      "text/plain": [
       "         date     open     high      low    close     volume  Name\n",
       "0  2013-02-08  67.7142  68.4014  66.8928  67.8542  158168416  AAPL\n",
       "1  2013-02-11  68.0714  69.2771  67.6071  68.5614  129029425  AAPL\n",
       "2  2013-02-12  68.5014  68.9114  66.8205  66.8428  151829363  AAPL\n",
       "3  2013-02-13  66.7442  67.6628  66.1742  66.7156  118721995  AAPL\n",
       "4  2013-02-14  66.3599  67.3771  66.2885  66.6556   88809154  AAPL"
      ]
     },
     "execution_count": 33,
     "metadata": {},
     "output_type": "execute_result"
    }
   ],
   "source": [
    "df=pd.read_csv(r\"C:\")#pandas kütüphanesini kullanarak apple hisselerinin olduğu csvyi tablolaştırdım \n",
    "df.head()#tablonun ilk satırlarını gösterdim"
   ]
  },
  {
   "cell_type": "code",
   "execution_count": 34,
   "id": "4a2f9251",
   "metadata": {},
   "outputs": [
    {
     "name": "stdout",
     "output_type": "stream",
     "text": [
      "(1259, 1)\n"
     ]
    },
    {
     "data": {
      "text/plain": [
       "array([[67.7142],\n",
       "       [68.0714],\n",
       "       [68.5014],\n",
       "       [66.7442],\n",
       "       [66.3599],\n",
       "       [66.9785],\n",
       "       [65.8714]])"
      ]
     },
     "execution_count": 34,
     "metadata": {},
     "output_type": "execute_result"
    }
   ],
   "source": [
    "df = df['open'].values #hisselerin açılış fiyatının değerlerini df ye atadım \n",
    "df= df.reshape(-1,1)#df yi 1 boyutlu bir dizi olarak yeniden şekillendirdim \n",
    "print(df.shape)#df yi yazdırdım \n",
    "df[:7]#df nin ilk 7 elemanlını sıralattırdım "
   ]
  },
  {
   "cell_type": "code",
   "execution_count": 35,
   "id": "6f9a90af",
   "metadata": {},
   "outputs": [],
   "source": [
    "dataset_train = np.array(df[:int(df.shape[0]*0.8)])#df nin bir kısmını eğitim dataseti olarak ayırdım\n",
    "dataset_test = np.array(df[int(df.shape[0]*0.8)-50:])#df nin bir kısmını test dataseti olarak ayırdım"
   ]
  },
  {
   "cell_type": "code",
   "execution_count": 36,
   "id": "2961ece1",
   "metadata": {},
   "outputs": [
    {
     "data": {
      "text/plain": [
       "(302, 1)"
      ]
     },
     "execution_count": 36,
     "metadata": {},
     "output_type": "execute_result"
    }
   ],
   "source": [
    "dataset_test.shape #test datasetini kontrol ettim"
   ]
  },
  {
   "cell_type": "code",
   "execution_count": 37,
   "id": "c89cc4df",
   "metadata": {},
   "outputs": [
    {
     "data": {
      "text/plain": [
       "array([[0.15550899],\n",
       "       [0.16002875],\n",
       "       [0.16546966],\n",
       "       [0.1432353 ],\n",
       "       [0.13837263],\n",
       "       [0.14619996],\n",
       "       [0.1321915 ]])"
      ]
     },
     "execution_count": 37,
     "metadata": {},
     "output_type": "execute_result"
    }
   ],
   "source": [
    "scaler = MinMaxScaler(feature_range=(0,1))#veri aralığını 0 1 arası yapıp scaler a atadım\n",
    "dataset_train = scaler.fit_transform(dataset_train)#eğitim datasetini scalerla 0 1 arası olarak değştirdim\n",
    "dataset_train[:7]# ilk 7 elemanını yazdırdım"
   ]
  },
  {
   "cell_type": "code",
   "execution_count": 38,
   "id": "9c07b4aa",
   "metadata": {},
   "outputs": [
    {
     "data": {
      "text/plain": [
       "array([[0.7048619 ],\n",
       "       [0.70865789],\n",
       "       [0.70043325],\n",
       "       [0.71080895],\n",
       "       [0.69518213],\n",
       "       [0.68006144],\n",
       "       [0.69056368]])"
      ]
     },
     "execution_count": 38,
     "metadata": {},
     "output_type": "execute_result"
    }
   ],
   "source": [
    "dataset_test = scaler.transform(dataset_test)#test datasetini scaler kullanarak 0 1 arasında belirttim\n",
    "dataset_test[:7]# ilk 7 elemanını sıralattım"
   ]
  },
  {
   "cell_type": "code",
   "execution_count": 39,
   "id": "8935421e",
   "metadata": {},
   "outputs": [],
   "source": [
    "def create_my_dataset(df):#data set oluşturmak için bu metodu yazdım\n",
    "    x = []#x boyutunu oluşturdum\n",
    "    y=  []#y boyutunu oluşturdum\n",
    "    for i in range(50,df.shape[0]):#sıfırdan 50 ye tara\n",
    "            x.append(df[i-50:i,0])#değerleri x e ata\n",
    "            y.append(df[i,0]) # değerleri y ye ata         \n",
    "    x=np.array(x)# x dizisini x e atadım\n",
    "    y=np.array(y)# y dizisini y e atadım\n",
    "    return x,y# method değer olarak x ve y yi döndürüyor"
   ]
  },
  {
   "cell_type": "code",
   "execution_count": 40,
   "id": "41ea9a50",
   "metadata": {},
   "outputs": [
    {
     "data": {
      "text/plain": [
       "array([[0.15550899, 0.16002875, 0.16546966, 0.1432353 , 0.13837263,\n",
       "        0.14619996, 0.1321915 , 0.12602681, 0.10489581, 0.11077074,\n",
       "        0.11908522, 0.10095558, 0.10928904, 0.10137187, 0.09043563,\n",
       "        0.07199725, 0.06057385, 0.08412669, 0.06603248, 0.07561229,\n",
       "        0.07552245, 0.08609681, 0.07317274, 0.0810899 , 0.09030909,\n",
       "        0.09667117, 0.12929896, 0.1255384 , 0.11252448, 0.12040496,\n",
       "        0.13868011, 0.14003654, 0.12380363, 0.11180072, 0.09748478,\n",
       "        0.07163663, 0.07845043, 0.08277153, 0.06603248, 0.06666515,\n",
       "        0.06939446, 0.07254007, 0.08269814, 0.08347632, 0.07055098,\n",
       "        0.06073581, 0.0583861 , 0.03076649, 0.        , 0.00844228]])"
      ]
     },
     "execution_count": 40,
     "metadata": {},
     "output_type": "execute_result"
    }
   ],
   "source": [
    "x_train,y_train = create_my_dataset(dataset_train)#eğitim datasetinin x ve y boyutlarını oluşturdum\n",
    "x_train[:1]#diziyi sıralattırdım"
   ]
  },
  {
   "cell_type": "code",
   "execution_count": 41,
   "id": "27934502",
   "metadata": {},
   "outputs": [
    {
     "data": {
      "text/plain": [
       "(1, 50)"
      ]
     },
     "execution_count": 41,
     "metadata": {},
     "output_type": "execute_result"
    }
   ],
   "source": [
    "x_train[:1].shape# x kısmını kontrol ettim"
   ]
  },
  {
   "cell_type": "code",
   "execution_count": 42,
   "id": "ef60c6c6",
   "metadata": {
    "scrolled": true
   },
   "outputs": [
    {
     "data": {
      "text/plain": [
       "array([[0.7048619 , 0.70865789, 0.70043325, 0.71080895, 0.69518213,\n",
       "        0.68006144, 0.69056368, 0.68423703, 0.68120024, 0.70144551,\n",
       "        0.71979279, 0.73219302, 0.73915233, 0.75433628, 0.7586384 ,\n",
       "        0.7724305 , 0.76395279, 0.77584689, 0.77660608, 0.7709121 ,\n",
       "        0.7612956 , 0.77306316, 0.78571645, 0.77217743, 0.77470809,\n",
       "        0.76395279, 0.76458545, 0.76547118, 0.77635302, 0.79115737,\n",
       "        0.80153307, 0.80115347, 0.80311474, 0.80583519, 0.79609216,\n",
       "        0.81709663, 0.80950465, 0.82279061, 0.81709663, 0.81140264,\n",
       "        0.82241101, 0.83822763, 0.84417468, 0.82886419, 0.83164791,\n",
       "        0.90604929, 0.91800665, 0.9222455 , 0.93262121, 0.95046235]])"
      ]
     },
     "execution_count": 42,
     "metadata": {},
     "output_type": "execute_result"
    }
   ],
   "source": [
    "x_test,y_test=create_my_dataset(dataset_test)#test datasetini oluşturdum\n",
    "x_test[:1]# x kısmını sıralattırdım"
   ]
  },
  {
   "cell_type": "code",
   "execution_count": 43,
   "id": "9571867d",
   "metadata": {},
   "outputs": [
    {
     "name": "stdout",
     "output_type": "stream",
     "text": [
      "(957, 50, 1)\n",
      "(252, 50, 1)\n"
     ]
    }
   ],
   "source": [
    "#x_train.shape\n",
    "#(957,50,1)\n",
    "x_train = np.reshape(x_train,(x_train.shape[0],x_train.shape[1],1))#x_train dizisini yeniden şekillendirdim\n",
    "x_test = np.reshape(x_test,(x_test.shape[0],x_test.shape[1],1))#x_test dizisini yeniden şekillendirdim\n",
    "print(x_train.shape)#x_trainin şeklini yazdırdım\n",
    "print(x_test.shape)#x_testin şeklini yazdırdım"
   ]
  },
  {
   "cell_type": "code",
   "execution_count": 44,
   "id": "282d155b",
   "metadata": {},
   "outputs": [],
   "source": [
    "model = Sequential()#ardışık model\n",
    "model.add(LSTM(units=96,return_sequences=True, input_shape=(x_train.shape[1],1)))#96 düğüm layerlar arası ardışıklık doğru\n",
    "#Sistemin tek zaman biriminde girdi olarak tek özellik(fiyat) almasını sağladım \n",
    "model.add(Dropout(0.2))#modelin overfitting olmasını engellemek için layer başında yüzde 20 dropout ekledim\n",
    "model.add(LSTM(units=96, return_sequences=True))#2.katman\n",
    "model.add(Dropout(0.2))\n",
    "model.add(LSTM(units=96))#3.katman\n",
    "model.add(Dropout(0.2))\n",
    "model.add(Dense(units=1))#bütün düğümleri birbirine bağlayan dense katmanı"
   ]
  },
  {
   "cell_type": "code",
   "execution_count": 45,
   "id": "a7706b09",
   "metadata": {},
   "outputs": [
    {
     "name": "stdout",
     "output_type": "stream",
     "text": [
      "Model: \"sequential_1\"\n",
      "_________________________________________________________________\n",
      " Layer (type)                Output Shape              Param #   \n",
      "=================================================================\n",
      " lstm_3 (LSTM)               (None, 50, 96)            37632     \n",
      "                                                                 \n",
      " dropout_3 (Dropout)         (None, 50, 96)            0         \n",
      "                                                                 \n",
      " lstm_4 (LSTM)               (None, 50, 96)            74112     \n",
      "                                                                 \n",
      " dropout_4 (Dropout)         (None, 50, 96)            0         \n",
      "                                                                 \n",
      " lstm_5 (LSTM)               (None, 96)                74112     \n",
      "                                                                 \n",
      " dropout_5 (Dropout)         (None, 96)                0         \n",
      "                                                                 \n",
      " dense_1 (Dense)             (None, 1)                 97        \n",
      "                                                                 \n",
      "=================================================================\n",
      "Total params: 185,953\n",
      "Trainable params: 185,953\n",
      "Non-trainable params: 0\n",
      "_________________________________________________________________\n"
     ]
    }
   ],
   "source": [
    "model.summary()#modelimin özetini çıkarttım"
   ]
  },
  {
   "cell_type": "code",
   "execution_count": 49,
   "id": "b288b115",
   "metadata": {},
   "outputs": [],
   "source": [
    "model.compile(loss = 'mean_squared_error', optimizer='adam')#Modelimin ne kadar doğru çalıştığını görmek için Ortalama Kare hatasını kullandım \n",
    "#optimizer olarak adam optimizerini kullandım"
   ]
  },
  {
   "cell_type": "code",
   "execution_count": 50,
   "id": "07e7fc17",
   "metadata": {},
   "outputs": [],
   "source": [
    "if(not os.path.exists(r\"C:\")):#Modelin çıktılarını görmek için işletim sistemin belirlediğim adreste dosya oluşturdum \n",
    "    model.fit(x_train,y_train, epochs=50, batch_size=32)#modelin 50 adımda 32 şer örnekle çalışması\n",
    "    model.save(r\"C:5\")#belirtilen adrese modeli kaydet"
   ]
  },
  {
   "cell_type": "code",
   "execution_count": 51,
   "id": "24d22c69",
   "metadata": {},
   "outputs": [],
   "source": [
    "model = load_model(r'C:')\n"
   ]
  },
  {
   "cell_type": "code",
   "execution_count": 52,
   "id": "1b62cd42",
   "metadata": {
    "scrolled": true
   },
   "outputs": [
    {
     "name": "stdout",
     "output_type": "stream",
     "text": [
      "8/8 [==============================] - 2s 37ms/step\n",
      "range(1007, 1259)\n"
     ]
    },
    {
     "data": {
      "image/png": "[encoded data removed]",
      "text/plain": [
       "<Figure size 576x288 with 1 Axes>"
      ]
     },
     "metadata": {
      "needs_background": "light"
     },
     "output_type": "display_data"
    }
   ],
   "source": [
    "predictions = model.predict(x_test)#Tahminleri görebilmek için tahminleri predictions değişkenine atadım \n",
    "predictions = scaler.inverse_transform(predictions)#Modele sokarken 0 ile 1 arasında belirttiğin değerleri tekrar eski haline dönüştürdüm \n",
    "#Mathplotlib kullanarak tahminlerin asıl değerlere olan oranını görselleştirdim \n",
    "fig,ax = plt.subplots(figsize = (8,4))\n",
    "plt.plot(df,color='red', label='original Stockprice')\n",
    "ax.plot(range(len(y_train)+50, len(y_train)+50+len(predictions)),predictions, color='blue',label='Predictions')\n",
    "plt.legend()\n",
    "print(range(len(y_train)+50,len(y_train)+50+len(predictions)))"
   ]
  },
  {
   "cell_type": "code",
   "execution_count": 53,
   "id": "9f6f1b50",
   "metadata": {},
   "outputs": [
    {
     "data": {
      "text/plain": [
       "<matplotlib.legend.Legend at 0x258ff53b6d0>"
      ]
     },
     "execution_count": 53,
     "metadata": {},
     "output_type": "execute_result"
    },
    {
     "data": {
      "image/png": "[encoded data removed]",
      "text/plain": [
       "<Figure size 576x288 with 1 Axes>"
      ]
     },
     "metadata": {
      "needs_background": "light"
     },
     "output_type": "display_data"
    }
   ],
   "source": [
    "#Eğitilmiş modele tüm verileri tahmin ettirdim ve asıl verilere olan oranını grafikleştirdim \n",
    "y_test_scaled =scaler.inverse_transform(y_test.reshape(-1,1))\n",
    "fig,ax =plt.subplots(figsize=(8,4))\n",
    "ax.plot(y_test_scaled, color= 'red',label = 'True Prices')\n",
    "plt.plot(predictions,color='blue',label = 'Predicted Prices')\n",
    "plt.legend()"
   ]
  },
  {
   "cell_type": "code",
   "execution_count": null,
   "id": "25d8776e",
   "metadata": {},
   "outputs": [],
   "source": []
  }
 ],
 "metadata": {
  "kernelspec": {
   "display_name": "Python 3 (ipykernel)",
   "language": "python",
   "name": "python3"
  },
  "language_info": {
   "codemirror_mode": {
    "name": "ipython",
    "version": 3
   },
   "file_extension": ".py",
   "mimetype": "text/x-python",
   "name": "python",
   "nbconvert_exporter": "python",
   "pygments_lexer": "ipython3",
   "version": "3.10.0"
  }
 },
 "nbformat": 4,
 "nbformat_minor": 5
}
